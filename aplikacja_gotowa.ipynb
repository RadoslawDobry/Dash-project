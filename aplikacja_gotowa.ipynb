{
 "cells": [
  {
   "cell_type": "code",
   "execution_count": 1,
   "metadata": {},
   "outputs": [
    {
     "name": "stderr",
     "output_type": "stream",
     "text": [
      "/var/folders/5m/1x8fvkk107g69mlc5tms1jhr0000gn/T/ipykernel_1073/2196001642.py:2: UserWarning: \n",
      "The dash_core_components package is deprecated. Please replace\n",
      "`import dash_core_components as dcc` with `from dash import dcc`\n",
      "  import dash_core_components as dcc\n",
      "/var/folders/5m/1x8fvkk107g69mlc5tms1jhr0000gn/T/ipykernel_1073/2196001642.py:3: UserWarning: \n",
      "The dash_html_components package is deprecated. Please replace\n",
      "`import dash_html_components as html` with `from dash import html`\n",
      "  import dash_html_components as html\n"
     ]
    }
   ],
   "source": [
    "\n",
    "from jupyter_dash import JupyterDash\n",
    "import dash_core_components as dcc\n",
    "import dash_html_components as html\n",
    "from dash.dependencies import Input, Output\n",
    "import dash_bootstrap_components as dbc\n",
    "\n",
    "import pandas as pd\n",
    "\n",
    "import plotly.express as px\n",
    "import plotly.graph_objs as go\n"
   ]
  },
  {
   "cell_type": "code",
   "execution_count": 2,
   "metadata": {},
   "outputs": [
    {
     "name": "stderr",
     "output_type": "stream",
     "text": [
      "/Library/Frameworks/Python.framework/Versions/3.10/lib/python3.10/site-packages/openpyxl/styles/stylesheet.py:226: UserWarning: Workbook contains no default style, apply openpyxl's default\n",
      "  warn(\"Workbook contains no default style, apply openpyxl's default\")\n",
      "/Library/Frameworks/Python.framework/Versions/3.10/lib/python3.10/site-packages/openpyxl/styles/stylesheet.py:226: UserWarning: Workbook contains no default style, apply openpyxl's default\n",
      "  warn(\"Workbook contains no default style, apply openpyxl's default\")\n"
     ]
    }
   ],
   "source": [
    "# pobranie danych\n",
    "athlete = pd.read_excel('Athletes.xlsx', engine=\"openpyxl\")\n",
    "gender = pd.read_excel('EntriesGender.xlsx', engine=\"openpyxl\")\n",
    "medal = pd.read_excel('Medals.xlsx', engine=\"openpyxl\")\n",
    "teams = pd.read_excel('Teams.xlsx', engine=\"openpyxl\")\n",
    "coaches = pd.read_excel('Coaches.xlsx', engine=\"openpyxl\")\n"
   ]
  },
  {
   "cell_type": "markdown",
   "metadata": {},
   "source": [
    "**kołowy**"
   ]
  },
  {
   "cell_type": "code",
   "execution_count": 3,
   "metadata": {},
   "outputs": [],
   "source": [
    "gender.head(9)\n",
    "gender.columns = ['dyscyplina', 'Kobiety', 'Męczyźni', 'całkowita']\n"
   ]
  },
  {
   "cell_type": "code",
   "execution_count": 4,
   "metadata": {},
   "outputs": [],
   "source": [
    "theme = 'plotly_dark'\n"
   ]
  },
  {
   "cell_type": "code",
   "execution_count": 5,
   "metadata": {},
   "outputs": [
    {
     "data": {
      "text/html": [
       "<div>\n",
       "<style scoped>\n",
       "    .dataframe tbody tr th:only-of-type {\n",
       "        vertical-align: middle;\n",
       "    }\n",
       "\n",
       "    .dataframe tbody tr th {\n",
       "        vertical-align: top;\n",
       "    }\n",
       "\n",
       "    .dataframe thead th {\n",
       "        text-align: right;\n",
       "    }\n",
       "</style>\n",
       "<table border=\"1\" class=\"dataframe\">\n",
       "  <thead>\n",
       "    <tr style=\"text-align: right;\">\n",
       "      <th>dyscyplina</th>\n",
       "      <th>3x3 Basketball</th>\n",
       "      <th>Archery</th>\n",
       "      <th>Artistic Gymnastics</th>\n",
       "      <th>Artistic Swimming</th>\n",
       "      <th>Athletics</th>\n",
       "      <th>Badminton</th>\n",
       "      <th>Baseball/Softball</th>\n",
       "      <th>Basketball</th>\n",
       "      <th>Beach Volleyball</th>\n",
       "      <th>Boxing</th>\n",
       "      <th>...</th>\n",
       "      <th>Swimming</th>\n",
       "      <th>Table Tennis</th>\n",
       "      <th>Taekwondo</th>\n",
       "      <th>Tennis</th>\n",
       "      <th>Trampoline Gymnastics</th>\n",
       "      <th>Triathlon</th>\n",
       "      <th>Volleyball</th>\n",
       "      <th>Water Polo</th>\n",
       "      <th>Weightlifting</th>\n",
       "      <th>Wrestling</th>\n",
       "    </tr>\n",
       "  </thead>\n",
       "  <tbody>\n",
       "    <tr>\n",
       "      <th>Kobiety</th>\n",
       "      <td>32</td>\n",
       "      <td>64</td>\n",
       "      <td>98</td>\n",
       "      <td>105</td>\n",
       "      <td>969</td>\n",
       "      <td>86</td>\n",
       "      <td>90</td>\n",
       "      <td>144</td>\n",
       "      <td>48</td>\n",
       "      <td>102</td>\n",
       "      <td>...</td>\n",
       "      <td>361</td>\n",
       "      <td>86</td>\n",
       "      <td>65</td>\n",
       "      <td>94</td>\n",
       "      <td>16</td>\n",
       "      <td>55</td>\n",
       "      <td>144</td>\n",
       "      <td>122</td>\n",
       "      <td>98</td>\n",
       "      <td>96</td>\n",
       "    </tr>\n",
       "    <tr>\n",
       "      <th>Męczyźni</th>\n",
       "      <td>32</td>\n",
       "      <td>64</td>\n",
       "      <td>98</td>\n",
       "      <td>0</td>\n",
       "      <td>1072</td>\n",
       "      <td>87</td>\n",
       "      <td>144</td>\n",
       "      <td>144</td>\n",
       "      <td>48</td>\n",
       "      <td>187</td>\n",
       "      <td>...</td>\n",
       "      <td>418</td>\n",
       "      <td>86</td>\n",
       "      <td>65</td>\n",
       "      <td>97</td>\n",
       "      <td>16</td>\n",
       "      <td>55</td>\n",
       "      <td>144</td>\n",
       "      <td>146</td>\n",
       "      <td>99</td>\n",
       "      <td>193</td>\n",
       "    </tr>\n",
       "  </tbody>\n",
       "</table>\n",
       "<p>2 rows × 46 columns</p>\n",
       "</div>"
      ],
      "text/plain": [
       "dyscyplina 3x3 Basketball Archery Artistic Gymnastics Artistic Swimming  \\\n",
       "Kobiety                32      64                  98               105   \n",
       "Męczyźni               32      64                  98                 0   \n",
       "\n",
       "dyscyplina Athletics Badminton Baseball/Softball Basketball Beach Volleyball  \\\n",
       "Kobiety          969        86                90        144               48   \n",
       "Męczyźni        1072        87               144        144               48   \n",
       "\n",
       "dyscyplina Boxing  ... Swimming Table Tennis Taekwondo Tennis  \\\n",
       "Kobiety       102  ...      361           86        65     94   \n",
       "Męczyźni      187  ...      418           86        65     97   \n",
       "\n",
       "dyscyplina Trampoline Gymnastics Triathlon Volleyball Water Polo  \\\n",
       "Kobiety                       16        55        144        122   \n",
       "Męczyźni                      16        55        144        146   \n",
       "\n",
       "dyscyplina Weightlifting Wrestling  \n",
       "Kobiety               98        96  \n",
       "Męczyźni              99       193  \n",
       "\n",
       "[2 rows x 46 columns]"
      ]
     },
     "execution_count": 5,
     "metadata": {},
     "output_type": "execute_result"
    }
   ],
   "source": [
    "gendert = gender[['dyscyplina', 'Kobiety', 'Męczyźni']]\n",
    "gendert = gendert.transpose()\n",
    "gendert.columns = gendert.iloc[0]\n",
    "gendert = gendert.iloc[1:]\n",
    "gendert\n"
   ]
  },
  {
   "cell_type": "code",
   "execution_count": 6,
   "metadata": {},
   "outputs": [],
   "source": [
    "word_list = [\n",
    "    'Koszykówka 3x3',\n",
    "    'Łucznictwo',\n",
    "    'Gimnastyka artystyczna',\n",
    "    'Pływanie artystyczne',\n",
    "    'Lekkoatletyka',\n",
    "    'Badminton',\n",
    "    'Baseball/softball',\n",
    "    'Koszykówka',\n",
    "    'Siatkówka plażowa',\n",
    "    'Boks',\n",
    "    'Slalom kajakowy',\n",
    "    'Sprint kajakowy',\n",
    "    'Kolarstwo BMX Freestyle',\n",
    "    'Kolarstwo BMX Racing',\n",
    "    'Kolarstwo górskie',\n",
    "    'Kolarstwo szosowe',\n",
    "    'Kolarstwo torowe',\n",
    "    'Nurkowanie',\n",
    "    'Jeździectwo',\n",
    "    'Szermierka',\n",
    "    'Piłka nożna',\n",
    "    'Golf',\n",
    "    'Piłka ręczna',\n",
    "    'Hokej',\n",
    "    'Judo',\n",
    "    'Karate',\n",
    "    'Pływanie długodystansowe',\n",
    "    'Pięciobój nowoczesny',\n",
    "    'Gimnastyka rytmiczna',\n",
    "    'Wioślarstwo',\n",
    "    'Rugby',\n",
    "    'Żeglarstwo',\n",
    "    'Strzelectwo',\n",
    "    'Jazda na deskorolce',\n",
    "    'Wspinaczka sportowa',\n",
    "    'Surfing',\n",
    "    'Pływanie',\n",
    "    'Tenis stołowy',\n",
    "    'Taekwondo',\n",
    "    'Tenis',\n",
    "    'Gimnastyka na trampolinie',\n",
    "    'Triathlon',\n",
    "    'Siatkówka',\n",
    "    'Piłka wodna',\n",
    "    'Podnoszenie ciężarów',\n",
    "    'Wrestling']\n",
    "\n",
    "\n",
    "gendert.columns = word_list\n"
   ]
  },
  {
   "cell_type": "code",
   "execution_count": 7,
   "metadata": {},
   "outputs": [
    {
     "data": {
      "text/html": [
       "<div>\n",
       "<style scoped>\n",
       "    .dataframe tbody tr th:only-of-type {\n",
       "        vertical-align: middle;\n",
       "    }\n",
       "\n",
       "    .dataframe tbody tr th {\n",
       "        vertical-align: top;\n",
       "    }\n",
       "\n",
       "    .dataframe thead th {\n",
       "        text-align: right;\n",
       "    }\n",
       "</style>\n",
       "<table border=\"1\" class=\"dataframe\">\n",
       "  <thead>\n",
       "    <tr style=\"text-align: right;\">\n",
       "      <th></th>\n",
       "      <th>Badminton</th>\n",
       "      <th>Baseball/softball</th>\n",
       "      <th>Boks</th>\n",
       "      <th>Gimnastyka artystyczna</th>\n",
       "      <th>Gimnastyka na trampolinie</th>\n",
       "      <th>Gimnastyka rytmiczna</th>\n",
       "      <th>Golf</th>\n",
       "      <th>Hokej</th>\n",
       "      <th>Jazda na deskorolce</th>\n",
       "      <th>Jeździectwo</th>\n",
       "      <th>...</th>\n",
       "      <th>Szermierka</th>\n",
       "      <th>Taekwondo</th>\n",
       "      <th>Tenis</th>\n",
       "      <th>Tenis stołowy</th>\n",
       "      <th>Triathlon</th>\n",
       "      <th>Wioślarstwo</th>\n",
       "      <th>Wrestling</th>\n",
       "      <th>Wspinaczka sportowa</th>\n",
       "      <th>Łucznictwo</th>\n",
       "      <th>Żeglarstwo</th>\n",
       "    </tr>\n",
       "  </thead>\n",
       "  <tbody>\n",
       "    <tr>\n",
       "      <th>Kobiety</th>\n",
       "      <td>86</td>\n",
       "      <td>90</td>\n",
       "      <td>102</td>\n",
       "      <td>98</td>\n",
       "      <td>16</td>\n",
       "      <td>96</td>\n",
       "      <td>60</td>\n",
       "      <td>192</td>\n",
       "      <td>40</td>\n",
       "      <td>73</td>\n",
       "      <td>...</td>\n",
       "      <td>107</td>\n",
       "      <td>65</td>\n",
       "      <td>94</td>\n",
       "      <td>86</td>\n",
       "      <td>55</td>\n",
       "      <td>257</td>\n",
       "      <td>96</td>\n",
       "      <td>20</td>\n",
       "      <td>64</td>\n",
       "      <td>175</td>\n",
       "    </tr>\n",
       "    <tr>\n",
       "      <th>Męczyźni</th>\n",
       "      <td>87</td>\n",
       "      <td>144</td>\n",
       "      <td>187</td>\n",
       "      <td>98</td>\n",
       "      <td>16</td>\n",
       "      <td>0</td>\n",
       "      <td>60</td>\n",
       "      <td>192</td>\n",
       "      <td>40</td>\n",
       "      <td>125</td>\n",
       "      <td>...</td>\n",
       "      <td>108</td>\n",
       "      <td>65</td>\n",
       "      <td>97</td>\n",
       "      <td>86</td>\n",
       "      <td>55</td>\n",
       "      <td>265</td>\n",
       "      <td>193</td>\n",
       "      <td>20</td>\n",
       "      <td>64</td>\n",
       "      <td>175</td>\n",
       "    </tr>\n",
       "  </tbody>\n",
       "</table>\n",
       "<p>2 rows × 46 columns</p>\n",
       "</div>"
      ],
      "text/plain": [
       "         Badminton Baseball/softball Boks Gimnastyka artystyczna  \\\n",
       "Kobiety         86                90  102                     98   \n",
       "Męczyźni        87               144  187                     98   \n",
       "\n",
       "         Gimnastyka na trampolinie Gimnastyka rytmiczna Golf Hokej  \\\n",
       "Kobiety                         16                   96   60   192   \n",
       "Męczyźni                        16                    0   60   192   \n",
       "\n",
       "         Jazda na deskorolce Jeździectwo  ... Szermierka Taekwondo Tenis  \\\n",
       "Kobiety                   40          73  ...        107        65    94   \n",
       "Męczyźni                  40         125  ...        108        65    97   \n",
       "\n",
       "         Tenis stołowy Triathlon Wioślarstwo Wrestling Wspinaczka sportowa  \\\n",
       "Kobiety             86        55         257        96                  20   \n",
       "Męczyźni            86        55         265       193                  20   \n",
       "\n",
       "         Łucznictwo Żeglarstwo  \n",
       "Kobiety          64        175  \n",
       "Męczyźni         64        175  \n",
       "\n",
       "[2 rows x 46 columns]"
      ]
     },
     "execution_count": 7,
     "metadata": {},
     "output_type": "execute_result"
    }
   ],
   "source": [
    "gendert = gendert.reindex(columns=sorted(gendert.columns))\n",
    "gendert\n"
   ]
  },
  {
   "cell_type": "markdown",
   "metadata": {},
   "source": [
    "MAPA"
   ]
  },
  {
   "cell_type": "code",
   "execution_count": 8,
   "metadata": {},
   "outputs": [],
   "source": [
    "athlete['NOC'] = athlete['NOC'].replace('ROC', 'Russia')\n",
    "athlete['NOC'] = athlete['NOC'].replace(\"People's Republic of China\", 'China')\n",
    "athlete['NOC'] = athlete['NOC'].replace('Islamic Republic of Iran', 'Iran')\n",
    "athlete['NOC'] = athlete['NOC'].replace(\n",
    "    'United Republic of Tanzania', 'Tanzania')\n",
    "athlete['NOC'] = athlete['NOC'].replace(\n",
    "    'Democratic Republic of the Congo', 'Democratic republic of the congo')\n",
    "\n",
    "# Number of athletes by country\n",
    "athletes_country = athlete.groupby('NOC').count().reset_index()\n",
    "athletes_country = athletes_country.sort_values('NOC', ascending=False)\n",
    "athletes_top_country = athletes_country.head(30)\n"
   ]
  },
  {
   "cell_type": "code",
   "execution_count": 9,
   "metadata": {},
   "outputs": [],
   "source": [
    "athletes_country.rename(\n",
    "    columns={'NOC': 'Kraj', 'Name': 'liczba uczestników'}, inplace=True)\n"
   ]
  },
  {
   "cell_type": "code",
   "execution_count": 11,
   "metadata": {},
   "outputs": [
    {
     "data": {
      "application/vnd.plotly.v1+json": {
       "config": {
        "plotlyServerURL": "https://plot.ly"
       },
       "data": [
        {
         "geo": "geo",
         "hovertemplate": "Uczestnicy=%{marker.color}<br>Kraj=%{location}<extra></extra>",
         "legendgroup": "",
         "locationmode": "country names",
         "locations": [
          "Zimbabwe",
          "Zambia",
          "Yemen",
          "Virgin Islands, US",
          "Virgin Islands, British",
          "Vietnam",
          "Venezuela",
          "Vanuatu",
          "Uzbekistan",
          "Uruguay",
          "United States of America",
          "United Arab Emirates",
          "Ukraine",
          "Uganda",
          "Tuvalu",
          "Turkmenistan",
          "Turkey",
          "Tunisia",
          "Trinidad and Tobago",
          "Tonga",
          "Togo",
          "Thailand",
          "Tanzania",
          "Tajikistan",
          "Syrian Arab Republic",
          "Switzerland",
          "Sweden",
          "Suriname",
          "Sudan",
          "St Vincent and the Grenadines",
          "Sri Lanka",
          "Spain",
          "South Sudan",
          "South Africa",
          "Somalia",
          "Solomon Islands",
          "Slovenia",
          "Slovakia",
          "Singapore",
          "Sierra Leone",
          "Seychelles",
          "Serbia",
          "Senegal",
          "Saudi Arabia",
          "Sao Tome and Principe",
          "San Marino",
          "Samoa",
          "Saint Lucia",
          "Saint Kitts and Nevis",
          "Rwanda",
          "Russia",
          "Romania",
          "Republic of Moldova",
          "Republic of Korea",
          "Refugee Olympic Team",
          "Qatar",
          "Puerto Rico",
          "Portugal",
          "Poland",
          "Philippines",
          "Peru",
          "Paraguay",
          "Papua New Guinea",
          "Panama",
          "Palestine",
          "Palau",
          "Pakistan",
          "Oman",
          "Norway",
          "North Macedonia",
          "Nigeria",
          "Niger",
          "Nicaragua",
          "New Zealand",
          "Netherlands",
          "Nepal",
          "Nauru",
          "Namibia",
          "Myanmar",
          "Mozambique",
          "Morocco",
          "Montenegro",
          "Mongolia",
          "Monaco",
          "Mexico",
          "Mauritius",
          "Mauritania",
          "Marshall Islands",
          "Malta",
          "Mali",
          "Maldives",
          "Malaysia",
          "Malawi",
          "Madagascar",
          "Luxembourg",
          "Lithuania",
          "Liechtenstein",
          "Libya",
          "Liberia",
          "Lesotho",
          "Lebanon",
          "Latvia",
          "Lao People's Democratic Republic",
          "Kyrgyzstan",
          "Kuwait",
          "Kosovo",
          "Kiribati",
          "Kenya",
          "Kazakhstan",
          "Jordan",
          "Japan",
          "Jamaica",
          "Italy",
          "Israel",
          "Ireland",
          "Iraq",
          "Iran",
          "Indonesia",
          "India",
          "Iceland",
          "Hungary",
          "Hong Kong, China",
          "Honduras",
          "Haiti",
          "Guyana",
          "Guinea-Bissau",
          "Guinea",
          "Guatemala",
          "Guam",
          "Grenada",
          "Greece",
          "Great Britain",
          "Ghana",
          "Germany",
          "Georgia",
          "Gambia",
          "Gabon",
          "France",
          "Finland",
          "Fiji",
          "Federated States of Micronesia",
          "Ethiopia",
          "Eswatini",
          "Estonia",
          "Eritrea",
          "Equatorial Guinea",
          "El Salvador",
          "Egypt",
          "Ecuador",
          "Dominican Republic",
          "Dominica",
          "Djibouti",
          "Denmark",
          "Democratic republic of the congo",
          "Democratic Republic of Timor-Leste",
          "Côte d'Ivoire",
          "Czech Republic",
          "Cyprus",
          "Cuba",
          "Croatia",
          "Costa Rica",
          "Cook Islands",
          "Congo",
          "Comoros",
          "Colombia",
          "Chinese Taipei",
          "China",
          "Chile",
          "Chad",
          "Central African Republic",
          "Cayman Islands",
          "Cape Verde",
          "Canada",
          "Cameroon",
          "Cambodia",
          "Burundi",
          "Burkina Faso",
          "Bulgaria",
          "Brunei Darussalam",
          "Brazil",
          "Botswana",
          "Bosnia and Herzegovina",
          "Bolivia",
          "Bhutan",
          "Bermuda",
          "Benin",
          "Belize",
          "Belgium",
          "Belarus",
          "Barbados",
          "Bangladesh",
          "Bahrain",
          "Bahamas",
          "Azerbaijan",
          "Austria",
          "Australia",
          "Aruba",
          "Armenia",
          "Argentina",
          "Antigua and Barbuda",
          "Angola",
          "Andorra",
          "American Samoa",
          "Algeria",
          "Albania",
          "Afghanistan"
         ],
         "marker": {
          "color": [
           5,
           29,
           3,
           4,
           3,
           17,
           43,
           2,
           63,
           11,
           615,
           4,
           152,
           24,
           2,
           8,
           102,
           57,
           31,
           5,
           4,
           39,
           2,
           8,
           6,
           115,
           129,
           3,
           5,
           2,
           9,
           324,
           2,
           171,
           2,
           3,
           51,
           38,
           23,
           4,
           5,
           83,
           9,
           32,
           3,
           4,
           8,
           5,
           2,
           5,
           318,
           99,
           19,
           223,
           26,
           14,
           35,
           85,
           195,
           18,
           33,
           8,
           7,
           9,
           4,
           3,
           10,
           5,
           92,
           8,
           59,
           7,
           8,
           202,
           274,
           5,
           2,
           11,
           2,
           8,
           48,
           35,
           43,
           6,
           155,
           7,
           2,
           2,
           6,
           4,
           4,
           29,
           5,
           6,
           11,
           37,
           5,
           4,
           3,
           2,
           6,
           29,
           4,
           16,
           10,
           10,
           3,
           78,
           92,
           11,
           586,
           60,
           356,
           85,
           116,
           4,
           66,
           26,
           117,
           4,
           155,
           40,
           25,
           6,
           7,
           4,
           5,
           22,
           5,
           6,
           75,
           366,
           14,
           400,
           35,
           3,
           5,
           377,
           45,
           28,
           3,
           42,
           4,
           33,
           13,
           3,
           5,
           133,
           46,
           61,
           2,
           4,
           103,
           7,
           3,
           29,
           117,
           14,
           69,
           57,
           13,
           6,
           3,
           3,
           64,
           67,
           401,
           56,
           3,
           2,
           5,
           6,
           368,
           11,
           3,
           6,
           7,
           41,
           2,
           291,
           13,
           7,
           5,
           3,
           2,
           7,
           3,
           125,
           104,
           7,
           6,
           31,
           16,
           41,
           72,
           470,
           3,
           16,
           180,
           6,
           20,
           2,
           5,
           41,
           8,
           5
          ],
          "coloraxis": "coloraxis",
          "size": [
           5,
           29,
           3,
           4,
           3,
           17,
           43,
           2,
           63,
           11,
           615,
           4,
           152,
           24,
           2,
           8,
           102,
           57,
           31,
           5,
           4,
           39,
           2,
           8,
           6,
           115,
           129,
           3,
           5,
           2,
           9,
           324,
           2,
           171,
           2,
           3,
           51,
           38,
           23,
           4,
           5,
           83,
           9,
           32,
           3,
           4,
           8,
           5,
           2,
           5,
           318,
           99,
           19,
           223,
           26,
           14,
           35,
           85,
           195,
           18,
           33,
           8,
           7,
           9,
           4,
           3,
           10,
           5,
           92,
           8,
           59,
           7,
           8,
           202,
           274,
           5,
           2,
           11,
           2,
           8,
           48,
           35,
           43,
           6,
           155,
           7,
           2,
           2,
           6,
           4,
           4,
           29,
           5,
           6,
           11,
           37,
           5,
           4,
           3,
           2,
           6,
           29,
           4,
           16,
           10,
           10,
           3,
           78,
           92,
           11,
           586,
           60,
           356,
           85,
           116,
           4,
           66,
           26,
           117,
           4,
           155,
           40,
           25,
           6,
           7,
           4,
           5,
           22,
           5,
           6,
           75,
           366,
           14,
           400,
           35,
           3,
           5,
           377,
           45,
           28,
           3,
           42,
           4,
           33,
           13,
           3,
           5,
           133,
           46,
           61,
           2,
           4,
           103,
           7,
           3,
           29,
           117,
           14,
           69,
           57,
           13,
           6,
           3,
           3,
           64,
           67,
           401,
           56,
           3,
           2,
           5,
           6,
           368,
           11,
           3,
           6,
           7,
           41,
           2,
           291,
           13,
           7,
           5,
           3,
           2,
           7,
           3,
           125,
           104,
           7,
           6,
           31,
           16,
           41,
           72,
           470,
           3,
           16,
           180,
           6,
           20,
           2,
           5,
           41,
           8,
           5
          ],
          "sizemode": "area",
          "sizeref": 1.5375,
          "symbol": "circle"
         },
         "mode": "markers",
         "name": "",
         "showlegend": false,
         "type": "scattergeo"
        }
       ],
       "layout": {
        "coloraxis": {
         "colorbar": {
          "title": {
           "text": "Uczestnicy"
          }
         },
         "colorscale": [
          [
           0,
           "silver"
          ],
          [
           1,
           "yellow"
          ]
         ]
        },
        "geo": {
         "center": {},
         "domain": {
          "x": [
           0,
           1
          ],
          "y": [
           0,
           1
          ]
         },
         "projection": {
          "type": "orthographic"
         },
         "showcountries": true,
         "visible": true
        },
        "legend": {
         "itemsizing": "constant",
         "tracegroupgap": 0
        },
        "margin": {
         "b": 5,
         "l": 5,
         "r": 5,
         "t": 30
        },
        "template": {
         "data": {
          "bar": [
           {
            "error_x": {
             "color": "#f2f5fa"
            },
            "error_y": {
             "color": "#f2f5fa"
            },
            "marker": {
             "line": {
              "color": "rgb(17,17,17)",
              "width": 0.5
             },
             "pattern": {
              "fillmode": "overlay",
              "size": 10,
              "solidity": 0.2
             }
            },
            "type": "bar"
           }
          ],
          "barpolar": [
           {
            "marker": {
             "line": {
              "color": "rgb(17,17,17)",
              "width": 0.5
             },
             "pattern": {
              "fillmode": "overlay",
              "size": 10,
              "solidity": 0.2
             }
            },
            "type": "barpolar"
           }
          ],
          "carpet": [
           {
            "aaxis": {
             "endlinecolor": "#A2B1C6",
             "gridcolor": "#506784",
             "linecolor": "#506784",
             "minorgridcolor": "#506784",
             "startlinecolor": "#A2B1C6"
            },
            "baxis": {
             "endlinecolor": "#A2B1C6",
             "gridcolor": "#506784",
             "linecolor": "#506784",
             "minorgridcolor": "#506784",
             "startlinecolor": "#A2B1C6"
            },
            "type": "carpet"
           }
          ],
          "choropleth": [
           {
            "colorbar": {
             "outlinewidth": 0,
             "ticks": ""
            },
            "type": "choropleth"
           }
          ],
          "contour": [
           {
            "colorbar": {
             "outlinewidth": 0,
             "ticks": ""
            },
            "colorscale": [
             [
              0,
              "#0d0887"
             ],
             [
              0.1111111111111111,
              "#46039f"
             ],
             [
              0.2222222222222222,
              "#7201a8"
             ],
             [
              0.3333333333333333,
              "#9c179e"
             ],
             [
              0.4444444444444444,
              "#bd3786"
             ],
             [
              0.5555555555555556,
              "#d8576b"
             ],
             [
              0.6666666666666666,
              "#ed7953"
             ],
             [
              0.7777777777777778,
              "#fb9f3a"
             ],
             [
              0.8888888888888888,
              "#fdca26"
             ],
             [
              1,
              "#f0f921"
             ]
            ],
            "type": "contour"
           }
          ],
          "contourcarpet": [
           {
            "colorbar": {
             "outlinewidth": 0,
             "ticks": ""
            },
            "type": "contourcarpet"
           }
          ],
          "heatmap": [
           {
            "colorbar": {
             "outlinewidth": 0,
             "ticks": ""
            },
            "colorscale": [
             [
              0,
              "#0d0887"
             ],
             [
              0.1111111111111111,
              "#46039f"
             ],
             [
              0.2222222222222222,
              "#7201a8"
             ],
             [
              0.3333333333333333,
              "#9c179e"
             ],
             [
              0.4444444444444444,
              "#bd3786"
             ],
             [
              0.5555555555555556,
              "#d8576b"
             ],
             [
              0.6666666666666666,
              "#ed7953"
             ],
             [
              0.7777777777777778,
              "#fb9f3a"
             ],
             [
              0.8888888888888888,
              "#fdca26"
             ],
             [
              1,
              "#f0f921"
             ]
            ],
            "type": "heatmap"
           }
          ],
          "heatmapgl": [
           {
            "colorbar": {
             "outlinewidth": 0,
             "ticks": ""
            },
            "colorscale": [
             [
              0,
              "#0d0887"
             ],
             [
              0.1111111111111111,
              "#46039f"
             ],
             [
              0.2222222222222222,
              "#7201a8"
             ],
             [
              0.3333333333333333,
              "#9c179e"
             ],
             [
              0.4444444444444444,
              "#bd3786"
             ],
             [
              0.5555555555555556,
              "#d8576b"
             ],
             [
              0.6666666666666666,
              "#ed7953"
             ],
             [
              0.7777777777777778,
              "#fb9f3a"
             ],
             [
              0.8888888888888888,
              "#fdca26"
             ],
             [
              1,
              "#f0f921"
             ]
            ],
            "type": "heatmapgl"
           }
          ],
          "histogram": [
           {
            "marker": {
             "pattern": {
              "fillmode": "overlay",
              "size": 10,
              "solidity": 0.2
             }
            },
            "type": "histogram"
           }
          ],
          "histogram2d": [
           {
            "colorbar": {
             "outlinewidth": 0,
             "ticks": ""
            },
            "colorscale": [
             [
              0,
              "#0d0887"
             ],
             [
              0.1111111111111111,
              "#46039f"
             ],
             [
              0.2222222222222222,
              "#7201a8"
             ],
             [
              0.3333333333333333,
              "#9c179e"
             ],
             [
              0.4444444444444444,
              "#bd3786"
             ],
             [
              0.5555555555555556,
              "#d8576b"
             ],
             [
              0.6666666666666666,
              "#ed7953"
             ],
             [
              0.7777777777777778,
              "#fb9f3a"
             ],
             [
              0.8888888888888888,
              "#fdca26"
             ],
             [
              1,
              "#f0f921"
             ]
            ],
            "type": "histogram2d"
           }
          ],
          "histogram2dcontour": [
           {
            "colorbar": {
             "outlinewidth": 0,
             "ticks": ""
            },
            "colorscale": [
             [
              0,
              "#0d0887"
             ],
             [
              0.1111111111111111,
              "#46039f"
             ],
             [
              0.2222222222222222,
              "#7201a8"
             ],
             [
              0.3333333333333333,
              "#9c179e"
             ],
             [
              0.4444444444444444,
              "#bd3786"
             ],
             [
              0.5555555555555556,
              "#d8576b"
             ],
             [
              0.6666666666666666,
              "#ed7953"
             ],
             [
              0.7777777777777778,
              "#fb9f3a"
             ],
             [
              0.8888888888888888,
              "#fdca26"
             ],
             [
              1,
              "#f0f921"
             ]
            ],
            "type": "histogram2dcontour"
           }
          ],
          "mesh3d": [
           {
            "colorbar": {
             "outlinewidth": 0,
             "ticks": ""
            },
            "type": "mesh3d"
           }
          ],
          "parcoords": [
           {
            "line": {
             "colorbar": {
              "outlinewidth": 0,
              "ticks": ""
             }
            },
            "type": "parcoords"
           }
          ],
          "pie": [
           {
            "automargin": true,
            "type": "pie"
           }
          ],
          "scatter": [
           {
            "marker": {
             "line": {
              "color": "#283442"
             }
            },
            "type": "scatter"
           }
          ],
          "scatter3d": [
           {
            "line": {
             "colorbar": {
              "outlinewidth": 0,
              "ticks": ""
             }
            },
            "marker": {
             "colorbar": {
              "outlinewidth": 0,
              "ticks": ""
             }
            },
            "type": "scatter3d"
           }
          ],
          "scattercarpet": [
           {
            "marker": {
             "colorbar": {
              "outlinewidth": 0,
              "ticks": ""
             }
            },
            "type": "scattercarpet"
           }
          ],
          "scattergeo": [
           {
            "marker": {
             "colorbar": {
              "outlinewidth": 0,
              "ticks": ""
             }
            },
            "type": "scattergeo"
           }
          ],
          "scattergl": [
           {
            "marker": {
             "line": {
              "color": "#283442"
             }
            },
            "type": "scattergl"
           }
          ],
          "scattermapbox": [
           {
            "marker": {
             "colorbar": {
              "outlinewidth": 0,
              "ticks": ""
             }
            },
            "type": "scattermapbox"
           }
          ],
          "scatterpolar": [
           {
            "marker": {
             "colorbar": {
              "outlinewidth": 0,
              "ticks": ""
             }
            },
            "type": "scatterpolar"
           }
          ],
          "scatterpolargl": [
           {
            "marker": {
             "colorbar": {
              "outlinewidth": 0,
              "ticks": ""
             }
            },
            "type": "scatterpolargl"
           }
          ],
          "scatterternary": [
           {
            "marker": {
             "colorbar": {
              "outlinewidth": 0,
              "ticks": ""
             }
            },
            "type": "scatterternary"
           }
          ],
          "surface": [
           {
            "colorbar": {
             "outlinewidth": 0,
             "ticks": ""
            },
            "colorscale": [
             [
              0,
              "#0d0887"
             ],
             [
              0.1111111111111111,
              "#46039f"
             ],
             [
              0.2222222222222222,
              "#7201a8"
             ],
             [
              0.3333333333333333,
              "#9c179e"
             ],
             [
              0.4444444444444444,
              "#bd3786"
             ],
             [
              0.5555555555555556,
              "#d8576b"
             ],
             [
              0.6666666666666666,
              "#ed7953"
             ],
             [
              0.7777777777777778,
              "#fb9f3a"
             ],
             [
              0.8888888888888888,
              "#fdca26"
             ],
             [
              1,
              "#f0f921"
             ]
            ],
            "type": "surface"
           }
          ],
          "table": [
           {
            "cells": {
             "fill": {
              "color": "#506784"
             },
             "line": {
              "color": "rgb(17,17,17)"
             }
            },
            "header": {
             "fill": {
              "color": "#2a3f5f"
             },
             "line": {
              "color": "rgb(17,17,17)"
             }
            },
            "type": "table"
           }
          ]
         },
         "layout": {
          "annotationdefaults": {
           "arrowcolor": "#f2f5fa",
           "arrowhead": 0,
           "arrowwidth": 1
          },
          "autotypenumbers": "strict",
          "coloraxis": {
           "colorbar": {
            "outlinewidth": 0,
            "ticks": ""
           }
          },
          "colorscale": {
           "diverging": [
            [
             0,
             "#8e0152"
            ],
            [
             0.1,
             "#c51b7d"
            ],
            [
             0.2,
             "#de77ae"
            ],
            [
             0.3,
             "#f1b6da"
            ],
            [
             0.4,
             "#fde0ef"
            ],
            [
             0.5,
             "#f7f7f7"
            ],
            [
             0.6,
             "#e6f5d0"
            ],
            [
             0.7,
             "#b8e186"
            ],
            [
             0.8,
             "#7fbc41"
            ],
            [
             0.9,
             "#4d9221"
            ],
            [
             1,
             "#276419"
            ]
           ],
           "sequential": [
            [
             0,
             "#0d0887"
            ],
            [
             0.1111111111111111,
             "#46039f"
            ],
            [
             0.2222222222222222,
             "#7201a8"
            ],
            [
             0.3333333333333333,
             "#9c179e"
            ],
            [
             0.4444444444444444,
             "#bd3786"
            ],
            [
             0.5555555555555556,
             "#d8576b"
            ],
            [
             0.6666666666666666,
             "#ed7953"
            ],
            [
             0.7777777777777778,
             "#fb9f3a"
            ],
            [
             0.8888888888888888,
             "#fdca26"
            ],
            [
             1,
             "#f0f921"
            ]
           ],
           "sequentialminus": [
            [
             0,
             "#0d0887"
            ],
            [
             0.1111111111111111,
             "#46039f"
            ],
            [
             0.2222222222222222,
             "#7201a8"
            ],
            [
             0.3333333333333333,
             "#9c179e"
            ],
            [
             0.4444444444444444,
             "#bd3786"
            ],
            [
             0.5555555555555556,
             "#d8576b"
            ],
            [
             0.6666666666666666,
             "#ed7953"
            ],
            [
             0.7777777777777778,
             "#fb9f3a"
            ],
            [
             0.8888888888888888,
             "#fdca26"
            ],
            [
             1,
             "#f0f921"
            ]
           ]
          },
          "colorway": [
           "#636efa",
           "#EF553B",
           "#00cc96",
           "#ab63fa",
           "#FFA15A",
           "#19d3f3",
           "#FF6692",
           "#B6E880",
           "#FF97FF",
           "#FECB52"
          ],
          "font": {
           "color": "#f2f5fa"
          },
          "geo": {
           "bgcolor": "rgb(17,17,17)",
           "lakecolor": "rgb(17,17,17)",
           "landcolor": "rgb(17,17,17)",
           "showlakes": true,
           "showland": true,
           "subunitcolor": "#506784"
          },
          "hoverlabel": {
           "align": "left"
          },
          "hovermode": "closest",
          "mapbox": {
           "style": "dark"
          },
          "paper_bgcolor": "rgb(17,17,17)",
          "plot_bgcolor": "rgb(17,17,17)",
          "polar": {
           "angularaxis": {
            "gridcolor": "#506784",
            "linecolor": "#506784",
            "ticks": ""
           },
           "bgcolor": "rgb(17,17,17)",
           "radialaxis": {
            "gridcolor": "#506784",
            "linecolor": "#506784",
            "ticks": ""
           }
          },
          "scene": {
           "xaxis": {
            "backgroundcolor": "rgb(17,17,17)",
            "gridcolor": "#506784",
            "gridwidth": 2,
            "linecolor": "#506784",
            "showbackground": true,
            "ticks": "",
            "zerolinecolor": "#C8D4E3"
           },
           "yaxis": {
            "backgroundcolor": "rgb(17,17,17)",
            "gridcolor": "#506784",
            "gridwidth": 2,
            "linecolor": "#506784",
            "showbackground": true,
            "ticks": "",
            "zerolinecolor": "#C8D4E3"
           },
           "zaxis": {
            "backgroundcolor": "rgb(17,17,17)",
            "gridcolor": "#506784",
            "gridwidth": 2,
            "linecolor": "#506784",
            "showbackground": true,
            "ticks": "",
            "zerolinecolor": "#C8D4E3"
           }
          },
          "shapedefaults": {
           "line": {
            "color": "#f2f5fa"
           }
          },
          "sliderdefaults": {
           "bgcolor": "#C8D4E3",
           "bordercolor": "rgb(17,17,17)",
           "borderwidth": 1,
           "tickwidth": 0
          },
          "ternary": {
           "aaxis": {
            "gridcolor": "#506784",
            "linecolor": "#506784",
            "ticks": ""
           },
           "baxis": {
            "gridcolor": "#506784",
            "linecolor": "#506784",
            "ticks": ""
           },
           "bgcolor": "rgb(17,17,17)",
           "caxis": {
            "gridcolor": "#506784",
            "linecolor": "#506784",
            "ticks": ""
           }
          },
          "title": {
           "x": 0.05
          },
          "updatemenudefaults": {
           "bgcolor": "#506784",
           "borderwidth": 0
          },
          "xaxis": {
           "automargin": true,
           "gridcolor": "#283442",
           "linecolor": "#506784",
           "ticks": "",
           "title": {
            "standoff": 15
           },
           "zerolinecolor": "#283442",
           "zerolinewidth": 2
          },
          "yaxis": {
           "automargin": true,
           "gridcolor": "#283442",
           "linecolor": "#506784",
           "ticks": "",
           "title": {
            "standoff": 15
           },
           "zerolinecolor": "#283442",
           "zerolinewidth": 2
          }
         }
        }
       }
      }
     },
     "metadata": {},
     "output_type": "display_data"
    }
   ],
   "source": [
    "fig_map = px.scatter_geo(athletes_country, locations=\"Kraj\", locationmode='country names', size='liczba uczestników', color='liczba uczestników', basemap_visible=True,\n",
    "                         projection=\"orthographic\", template='plotly_dark', color_continuous_scale=[\"silver\", \"yellow\"],\n",
    "                         labels={'liczba uczestników': 'Uczestnicy'})\n",
    "fig_map.update_geos(showcountries=True)\n",
    "fig_map.update_layout(margin_l=5)\n",
    "fig_map.update_layout(margin_b=5)\n",
    "fig_map.update_layout(margin_r=5)\n",
    "fig_map.update_layout(margin_t=30)\n"
   ]
  },
  {
   "cell_type": "markdown",
   "metadata": {},
   "source": [
    "**Wykres Liniowy**"
   ]
  },
  {
   "cell_type": "code",
   "execution_count": null,
   "metadata": {},
   "outputs": [],
   "source": [
    "aa = pd.read_excel('a2.xlsx')\n"
   ]
  },
  {
   "cell_type": "markdown",
   "metadata": {},
   "source": [
    "Punktowy"
   ]
  },
  {
   "cell_type": "code",
   "execution_count": null,
   "metadata": {},
   "outputs": [
    {
     "data": {
      "text/html": [
       "<div>\n",
       "<style scoped>\n",
       "    .dataframe tbody tr th:only-of-type {\n",
       "        vertical-align: middle;\n",
       "    }\n",
       "\n",
       "    .dataframe tbody tr th {\n",
       "        vertical-align: top;\n",
       "    }\n",
       "\n",
       "    .dataframe thead th {\n",
       "        text-align: right;\n",
       "    }\n",
       "</style>\n",
       "<table border=\"1\" class=\"dataframe\">\n",
       "  <thead>\n",
       "    <tr style=\"text-align: right;\">\n",
       "      <th></th>\n",
       "      <th>Druzyna</th>\n",
       "      <th>Złoty</th>\n",
       "      <th>Srebrny</th>\n",
       "      <th>Brązowy</th>\n",
       "      <th>liczba medali</th>\n",
       "      <th>liczba uczestników</th>\n",
       "      <th>złoty medal na uczestnika</th>\n",
       "    </tr>\n",
       "  </thead>\n",
       "  <tbody>\n",
       "    <tr>\n",
       "      <th>0</th>\n",
       "      <td>United States of America</td>\n",
       "      <td>39.0</td>\n",
       "      <td>41.0</td>\n",
       "      <td>33.0</td>\n",
       "      <td>113.0</td>\n",
       "      <td>615</td>\n",
       "      <td>0.063</td>\n",
       "    </tr>\n",
       "    <tr>\n",
       "      <th>1</th>\n",
       "      <td>People's Republic of China</td>\n",
       "      <td>38.0</td>\n",
       "      <td>32.0</td>\n",
       "      <td>18.0</td>\n",
       "      <td>88.0</td>\n",
       "      <td>401</td>\n",
       "      <td>0.095</td>\n",
       "    </tr>\n",
       "    <tr>\n",
       "      <th>2</th>\n",
       "      <td>Japan</td>\n",
       "      <td>27.0</td>\n",
       "      <td>14.0</td>\n",
       "      <td>17.0</td>\n",
       "      <td>58.0</td>\n",
       "      <td>586</td>\n",
       "      <td>0.046</td>\n",
       "    </tr>\n",
       "    <tr>\n",
       "      <th>3</th>\n",
       "      <td>Great Britain</td>\n",
       "      <td>22.0</td>\n",
       "      <td>21.0</td>\n",
       "      <td>22.0</td>\n",
       "      <td>65.0</td>\n",
       "      <td>366</td>\n",
       "      <td>0.060</td>\n",
       "    </tr>\n",
       "    <tr>\n",
       "      <th>4</th>\n",
       "      <td>ROC</td>\n",
       "      <td>20.0</td>\n",
       "      <td>28.0</td>\n",
       "      <td>23.0</td>\n",
       "      <td>71.0</td>\n",
       "      <td>318</td>\n",
       "      <td>0.063</td>\n",
       "    </tr>\n",
       "    <tr>\n",
       "      <th>...</th>\n",
       "      <td>...</td>\n",
       "      <td>...</td>\n",
       "      <td>...</td>\n",
       "      <td>...</td>\n",
       "      <td>...</td>\n",
       "      <td>...</td>\n",
       "      <td>...</td>\n",
       "    </tr>\n",
       "    <tr>\n",
       "      <th>88</th>\n",
       "      <td>Ghana</td>\n",
       "      <td>0.0</td>\n",
       "      <td>0.0</td>\n",
       "      <td>1.0</td>\n",
       "      <td>1.0</td>\n",
       "      <td>14</td>\n",
       "      <td>0.000</td>\n",
       "    </tr>\n",
       "    <tr>\n",
       "      <th>89</th>\n",
       "      <td>Grenada</td>\n",
       "      <td>0.0</td>\n",
       "      <td>0.0</td>\n",
       "      <td>1.0</td>\n",
       "      <td>1.0</td>\n",
       "      <td>6</td>\n",
       "      <td>0.000</td>\n",
       "    </tr>\n",
       "    <tr>\n",
       "      <th>90</th>\n",
       "      <td>Kuwait</td>\n",
       "      <td>0.0</td>\n",
       "      <td>0.0</td>\n",
       "      <td>1.0</td>\n",
       "      <td>1.0</td>\n",
       "      <td>10</td>\n",
       "      <td>0.000</td>\n",
       "    </tr>\n",
       "    <tr>\n",
       "      <th>91</th>\n",
       "      <td>Republic of Moldova</td>\n",
       "      <td>0.0</td>\n",
       "      <td>0.0</td>\n",
       "      <td>1.0</td>\n",
       "      <td>1.0</td>\n",
       "      <td>19</td>\n",
       "      <td>0.000</td>\n",
       "    </tr>\n",
       "    <tr>\n",
       "      <th>92</th>\n",
       "      <td>Syrian Arab Republic</td>\n",
       "      <td>0.0</td>\n",
       "      <td>0.0</td>\n",
       "      <td>1.0</td>\n",
       "      <td>1.0</td>\n",
       "      <td>6</td>\n",
       "      <td>0.000</td>\n",
       "    </tr>\n",
       "  </tbody>\n",
       "</table>\n",
       "<p>93 rows × 7 columns</p>\n",
       "</div>"
      ],
      "text/plain": [
       "                       Druzyna  Złoty  Srebrny  Brązowy  liczba medali  \\\n",
       "0     United States of America   39.0     41.0     33.0          113.0   \n",
       "1   People's Republic of China   38.0     32.0     18.0           88.0   \n",
       "2                        Japan   27.0     14.0     17.0           58.0   \n",
       "3                Great Britain   22.0     21.0     22.0           65.0   \n",
       "4                          ROC   20.0     28.0     23.0           71.0   \n",
       "..                         ...    ...      ...      ...            ...   \n",
       "88                       Ghana    0.0      0.0      1.0            1.0   \n",
       "89                     Grenada    0.0      0.0      1.0            1.0   \n",
       "90                      Kuwait    0.0      0.0      1.0            1.0   \n",
       "91         Republic of Moldova    0.0      0.0      1.0            1.0   \n",
       "92        Syrian Arab Republic    0.0      0.0      1.0            1.0   \n",
       "\n",
       "    liczba uczestników  złoty medal na uczestnika  \n",
       "0                  615                      0.063  \n",
       "1                  401                      0.095  \n",
       "2                  586                      0.046  \n",
       "3                  366                      0.060  \n",
       "4                  318                      0.063  \n",
       "..                 ...                        ...  \n",
       "88                  14                      0.000  \n",
       "89                   6                      0.000  \n",
       "90                  10                      0.000  \n",
       "91                  19                      0.000  \n",
       "92                   6                      0.000  \n",
       "\n",
       "[93 rows x 7 columns]"
      ]
     },
     "execution_count": 30,
     "metadata": {},
     "output_type": "execute_result"
    }
   ],
   "source": [
    "athlete_t = pd.read_excel('Athletes.xlsx', engine=\"openpyxl\")\n",
    "athlete_total = athlete_t.value_counts('NOC').to_frame()\n",
    "athlete_total.groupby('NOC')\n",
    "medal = medal[['Team/NOC', 'Gold', 'Silver', 'Bronze', 'Total']]\n",
    "df = pd.merge(medal, athlete_total, how='outer', left_on=[\n",
    "              'Team/NOC'], right_on=['NOC']).iloc[:93]\n",
    "df = df.rename(columns={'Team/NOC': 'Druzyna', 'Gold': 'Złoty', 'Silver': 'Srebrny',\n",
    "               'Bronze': 'Brązowy', 'Total': 'liczba medali', 0: 'liczba uczestników'})\n",
    "df['złoty medal na uczestnika'] = df['Złoty']/df['liczba uczestników']\n",
    "df = df.round(3)\n",
    "df\n"
   ]
  },
  {
   "cell_type": "code",
   "execution_count": null,
   "metadata": {},
   "outputs": [
    {
     "name": "stderr",
     "output_type": "stream",
     "text": [
      "/Library/Frameworks/Python.framework/Versions/3.10/lib/python3.10/site-packages/openpyxl/styles/stylesheet.py:226: UserWarning:\n",
      "\n",
      "Workbook contains no default style, apply openpyxl's default\n",
      "\n"
     ]
    }
   ],
   "source": [
    "med = pd.read_excel('Medals.xlsx', engine=\"openpyxl\")\n"
   ]
  },
  {
   "cell_type": "code",
   "execution_count": null,
   "metadata": {},
   "outputs": [],
   "source": [
    "med.rename(columns={'Gold': 'Złoto', 'Silver': 'Srebro', 'Bronze': 'Brąz', 'Team/NOC': 'Kraj',\n",
    "           'Total': 'Całkowity', 'Rank by Total': 'Miejsce w rankingu'}, inplace=True)\n",
    "med['Kraj'] = med['Kraj'].replace({'United States of America': 'USA',\n",
    "                                   \"People's Republic of China\": 'Chiny',\n",
    "                                   \"Japan\": \"Japonia\",\n",
    "                                   \"Great Britain\": \"Wielka Brytania\",\n",
    "                                   'ROC': \"Rosyjski komitet olimpijski\",\n",
    "                                   'Netherlands': 'Holandia',\n",
    "                                   'France': 'Francja',\n",
    "                                   'Germany': 'Niemcy',\n",
    "                                   'Italy': 'Włochy'})\n"
   ]
  },
  {
   "cell_type": "code",
   "execution_count": null,
   "metadata": {},
   "outputs": [],
   "source": [
    "df1 = med.sort_values(by=['Całkowity'], ascending=False).reset_index().head(10)\n",
    "\n",
    "tr1 = go.Bar(x=df1['Kraj'],\n",
    "             y=df1['Złoto'],\n",
    "             name='Złoto',\n",
    "             marker=dict(color='Gold'))\n",
    "\n",
    "tr2 = go.Bar(x=df1['Kraj'],\n",
    "             y=df1['Srebro'],\n",
    "             name='Srebro',\n",
    "             marker=dict(color='Silver'))\n",
    "\n",
    "tr3 = go.Bar(x=df1['Kraj'],\n",
    "             y=df1['Brąz'],\n",
    "             name='Brąz',\n",
    "             marker=dict(color='Peru'))\n",
    "\n",
    "data = [tr1, tr2, tr3]\n",
    "\n",
    "layout = dict(\n",
    "    barmode='relative',\n",
    "    xaxis=dict(title='Kraj'),\n",
    "    yaxis=dict(title='liczba medali'),\n",
    "    template=theme\n",
    "\n",
    ")\n",
    "fig_bar = go.Figure(data=data, layout=layout)\n"
   ]
  },
  {
   "cell_type": "markdown",
   "metadata": {},
   "source": [
    "goldMedals = merged[(merged.Medal == 'Gold')]\n",
    "goldMedals = goldMedals[goldMedals['Year'] == 2016]\n",
    "medaleS = merged[merged.Medal == 'Silver']\n",
    "medaleB = merged[merged.Medal == 'Bronze']\n",
    "medaleZ = merged[merged.Medal == 'Gold']\n",
    "medale_all = pd.concat([medaleS, medaleB, medaleZ], sort=False)\n",
    "medale_all['ilosc'] = 1\n",
    "medale_all = medale_all[medale_all['Year'] == 2016]\n",
    "medale_all['Sex'] = medale_all['Sex'].replace(['M'], 'Mężczyźni')\n",
    "medale_all['Sex'] = medale_all['Sex'].replace(['F'], 'Kobiety')\n"
   ]
  },
  {
   "cell_type": "code",
   "execution_count": null,
   "metadata": {},
   "outputs": [
    {
     "name": "stderr",
     "output_type": "stream",
     "text": [
      "/var/folders/5m/1x8fvkk107g69mlc5tms1jhr0000gn/T/ipykernel_12421/3408162448.py:6: SettingWithCopyWarning:\n",
      "\n",
      "\n",
      "A value is trying to be set on a copy of a slice from a DataFrame.\n",
      "Try using .loc[row_indexer,col_indexer] = value instead\n",
      "\n",
      "See the caveats in the documentation: https://pandas.pydata.org/pandas-docs/stable/user_guide/indexing.html#returning-a-view-versus-a-copy\n",
      "\n",
      "/var/folders/5m/1x8fvkk107g69mlc5tms1jhr0000gn/T/ipykernel_12421/3408162448.py:8: SettingWithCopyWarning:\n",
      "\n",
      "\n",
      "A value is trying to be set on a copy of a slice from a DataFrame.\n",
      "Try using .loc[row_indexer,col_indexer] = value instead\n",
      "\n",
      "See the caveats in the documentation: https://pandas.pydata.org/pandas-docs/stable/user_guide/indexing.html#returning-a-view-versus-a-copy\n",
      "\n",
      "/var/folders/5m/1x8fvkk107g69mlc5tms1jhr0000gn/T/ipykernel_12421/3408162448.py:9: SettingWithCopyWarning:\n",
      "\n",
      "\n",
      "A value is trying to be set on a copy of a slice from a DataFrame.\n",
      "Try using .loc[row_indexer,col_indexer] = value instead\n",
      "\n",
      "See the caveats in the documentation: https://pandas.pydata.org/pandas-docs/stable/user_guide/indexing.html#returning-a-view-versus-a-copy\n",
      "\n",
      "/var/folders/5m/1x8fvkk107g69mlc5tms1jhr0000gn/T/ipykernel_12421/3408162448.py:10: SettingWithCopyWarning:\n",
      "\n",
      "\n",
      "A value is trying to be set on a copy of a slice from a DataFrame\n",
      "\n",
      "See the caveats in the documentation: https://pandas.pydata.org/pandas-docs/stable/user_guide/indexing.html#returning-a-view-versus-a-copy\n",
      "\n"
     ]
    },
    {
     "data": {
      "text/html": [
       "<div>\n",
       "<style scoped>\n",
       "    .dataframe tbody tr th:only-of-type {\n",
       "        vertical-align: middle;\n",
       "    }\n",
       "\n",
       "    .dataframe tbody tr th {\n",
       "        vertical-align: top;\n",
       "    }\n",
       "\n",
       "    .dataframe thead th {\n",
       "        text-align: right;\n",
       "    }\n",
       "</style>\n",
       "<table border=\"1\" class=\"dataframe\">\n",
       "  <thead>\n",
       "    <tr style=\"text-align: right;\">\n",
       "      <th></th>\n",
       "      <th>Imie i Nazwisko</th>\n",
       "      <th>Płeć</th>\n",
       "      <th>Wiek</th>\n",
       "      <th>Wzrost</th>\n",
       "      <th>Waga</th>\n",
       "      <th>Druzyna</th>\n",
       "      <th>Sport</th>\n",
       "      <th>ilosc</th>\n",
       "    </tr>\n",
       "  </thead>\n",
       "  <tbody>\n",
       "    <tr>\n",
       "      <th>80</th>\n",
       "      <td>Andreea Aanei</td>\n",
       "      <td>Kobiety</td>\n",
       "      <td>22.0</td>\n",
       "      <td>170.0</td>\n",
       "      <td>125.0</td>\n",
       "      <td>Romania</td>\n",
       "      <td>Weightlifting</td>\n",
       "      <td>1</td>\n",
       "    </tr>\n",
       "    <tr>\n",
       "      <th>144</th>\n",
       "      <td>Nstor Abad Sanjun</td>\n",
       "      <td>Mężczyźni</td>\n",
       "      <td>23.0</td>\n",
       "      <td>167.0</td>\n",
       "      <td>64.0</td>\n",
       "      <td>Spain</td>\n",
       "      <td>Gymnastics</td>\n",
       "      <td>1</td>\n",
       "    </tr>\n",
       "    <tr>\n",
       "      <th>148</th>\n",
       "      <td>Antonio Abadia Beci</td>\n",
       "      <td>Mężczyźni</td>\n",
       "      <td>26.0</td>\n",
       "      <td>170.0</td>\n",
       "      <td>65.0</td>\n",
       "      <td>Spain</td>\n",
       "      <td>Athletics</td>\n",
       "      <td>1</td>\n",
       "    </tr>\n",
       "    <tr>\n",
       "      <th>158</th>\n",
       "      <td>Giovanni Abagnale</td>\n",
       "      <td>Mężczyźni</td>\n",
       "      <td>21.0</td>\n",
       "      <td>198.0</td>\n",
       "      <td>90.0</td>\n",
       "      <td>Italy</td>\n",
       "      <td>Rowing</td>\n",
       "      <td>1</td>\n",
       "    </tr>\n",
       "    <tr>\n",
       "      <th>161</th>\n",
       "      <td>Patimat Abakarova</td>\n",
       "      <td>Kobiety</td>\n",
       "      <td>21.0</td>\n",
       "      <td>165.0</td>\n",
       "      <td>49.0</td>\n",
       "      <td>Azerbaijan</td>\n",
       "      <td>Taekwondo</td>\n",
       "      <td>1</td>\n",
       "    </tr>\n",
       "    <tr>\n",
       "      <th>...</th>\n",
       "      <td>...</td>\n",
       "      <td>...</td>\n",
       "      <td>...</td>\n",
       "      <td>...</td>\n",
       "      <td>...</td>\n",
       "      <td>...</td>\n",
       "      <td>...</td>\n",
       "      <td>...</td>\n",
       "    </tr>\n",
       "    <tr>\n",
       "      <th>270943</th>\n",
       "      <td>Anastasiya Valeryevna Zuyeva-Fesikova</td>\n",
       "      <td>Kobiety</td>\n",
       "      <td>26.0</td>\n",
       "      <td>182.0</td>\n",
       "      <td>71.0</td>\n",
       "      <td>Russia</td>\n",
       "      <td>Swimming</td>\n",
       "      <td>1</td>\n",
       "    </tr>\n",
       "    <tr>\n",
       "      <th>271019</th>\n",
       "      <td>Martin Zwicker</td>\n",
       "      <td>Mężczyźni</td>\n",
       "      <td>29.0</td>\n",
       "      <td>175.0</td>\n",
       "      <td>64.0</td>\n",
       "      <td>Germany</td>\n",
       "      <td>Hockey</td>\n",
       "      <td>1</td>\n",
       "    </tr>\n",
       "    <tr>\n",
       "      <th>271024</th>\n",
       "      <td>Marc Zwiebler</td>\n",
       "      <td>Mężczyźni</td>\n",
       "      <td>32.0</td>\n",
       "      <td>181.0</td>\n",
       "      <td>75.0</td>\n",
       "      <td>Germany</td>\n",
       "      <td>Badminton</td>\n",
       "      <td>1</td>\n",
       "    </tr>\n",
       "    <tr>\n",
       "      <th>271055</th>\n",
       "      <td>Viktoriya Viktorovna Zyabkina</td>\n",
       "      <td>Kobiety</td>\n",
       "      <td>23.0</td>\n",
       "      <td>174.0</td>\n",
       "      <td>62.0</td>\n",
       "      <td>Kazakhstan</td>\n",
       "      <td>Athletics</td>\n",
       "      <td>1</td>\n",
       "    </tr>\n",
       "    <tr>\n",
       "      <th>271110</th>\n",
       "      <td>Olga Igorevna Zyuzkova</td>\n",
       "      <td>Kobiety</td>\n",
       "      <td>33.0</td>\n",
       "      <td>171.0</td>\n",
       "      <td>69.0</td>\n",
       "      <td>Belarus</td>\n",
       "      <td>Basketball</td>\n",
       "      <td>1</td>\n",
       "    </tr>\n",
       "  </tbody>\n",
       "</table>\n",
       "<p>11174 rows × 8 columns</p>\n",
       "</div>"
      ],
      "text/plain": [
       "                              Imie i Nazwisko       Płeć  Wiek  Wzrost   Waga  \\\n",
       "80                              Andreea Aanei    Kobiety  22.0   170.0  125.0   \n",
       "144                         Nstor Abad Sanjun  Mężczyźni  23.0   167.0   64.0   \n",
       "148                       Antonio Abadia Beci  Mężczyźni  26.0   170.0   65.0   \n",
       "158                         Giovanni Abagnale  Mężczyźni  21.0   198.0   90.0   \n",
       "161                         Patimat Abakarova    Kobiety  21.0   165.0   49.0   \n",
       "...                                       ...        ...   ...     ...    ...   \n",
       "270943  Anastasiya Valeryevna Zuyeva-Fesikova    Kobiety  26.0   182.0   71.0   \n",
       "271019                         Martin Zwicker  Mężczyźni  29.0   175.0   64.0   \n",
       "271024                          Marc Zwiebler  Mężczyźni  32.0   181.0   75.0   \n",
       "271055          Viktoriya Viktorovna Zyabkina    Kobiety  23.0   174.0   62.0   \n",
       "271110                 Olga Igorevna Zyuzkova    Kobiety  33.0   171.0   69.0   \n",
       "\n",
       "           Druzyna          Sport  ilosc  \n",
       "80         Romania  Weightlifting      1  \n",
       "144          Spain     Gymnastics      1  \n",
       "148          Spain      Athletics      1  \n",
       "158          Italy         Rowing      1  \n",
       "161     Azerbaijan      Taekwondo      1  \n",
       "...            ...            ...    ...  \n",
       "270943      Russia       Swimming      1  \n",
       "271019     Germany         Hockey      1  \n",
       "271024     Germany      Badminton      1  \n",
       "271055  Kazakhstan      Athletics      1  \n",
       "271110     Belarus     Basketball      1  \n",
       "\n",
       "[11174 rows x 8 columns]"
      ]
     },
     "execution_count": 34,
     "metadata": {},
     "output_type": "execute_result"
    }
   ],
   "source": [
    "data = pd.read_csv('athlete_events.csv')\n",
    "regions = pd.read_csv('datasets_31029_40943_noc_regions.csv')\n",
    "\n",
    "merged = pd.merge(data, regions, on='NOC', how='left')\n",
    "merged = merged[merged['Year'] == 2016]\n",
    "merged['ilosc'] = 1\n",
    "merged = merged[['Name','Sex', 'Age','Height','Weight', 'Team', 'Sport', 'ilosc']]\n",
    "merged['Sex'] = merged['Sex'].replace(['M'], 'Mężczyźni')\n",
    "merged['Sex'] = merged['Sex'].replace(['F'], 'Kobiety')\n",
    "merged.rename(\n",
    "    columns={'Name': 'Imie i Nazwisko', 'Sex': 'Płeć', 'Age':'Wiek', 'Height':'Wzrost', 'Weight':'Waga', 'Team':'Druzyna', 'ilosc':'ilosc'}, inplace=True)\n",
    "merged = merged.drop_duplicates('Imie i Nazwisko', keep='last')\n",
    "merged"
   ]
  },
  {
   "cell_type": "code",
   "execution_count": null,
   "metadata": {},
   "outputs": [
    {
     "name": "stdout",
     "output_type": "stream",
     "text": [
      "Dash app running on http://127.0.0.1:8050/\n"
     ]
    }
   ],
   "source": [
    "app = JupyterDash(__name__)\n",
    "\n",
    "app.title = \"Igrzyska Olimpijskie\"\n",
    "\n",
    "app.layout = html.Div(\n",
    "    id=\"root\",\n",
    "    children=[\n",
    "        dbc.Row(\n",
    "            [\n",
    "                dbc.Col(\n",
    "                    html.Div([html.H1(\"⁣⁣ ⁣⁣  ⁣ ⁣Igrzyska Olimpijskie 🏅\")]),\n",
    "                    className=\"btn-primary\",\n",
    "                    width=3,\n",
    "                ),\n",
    "                dbc.Col(\n",
    "                    html.Div(\n",
    "                        [\n",
    "                            html.H3(\n",
    "                                children=\"Dashboard stworzony na potrzeby pracy licencjackiej. Wizualizacje dotyczą danych ilościowych dotyczących igrzysk olimpijskich na przestrzeni lat oraz szegółowych wyników z igrzysk Tokio 2020.\"\n",
    "                            )\n",
    "                        ]\n",
    "                    ),\n",
    "                    className=\"btn-primary\",\n",
    "                    width=9,\n",
    "                ),\n",
    "            ]\n",
    "        ),\n",
    "        \n",
    "        dbc.Row(html.H6(\"⁣ ⁣  ⁣\")),\n",
    "        \n",
    "        dbc.Row(\n",
    "            [\n",
    "                dbc.Col(\n",
    "                    html.Div(\n",
    "                        [\n",
    "                            html.H4(\n",
    "                                children=\"Rozkład płci uczestników danej dyscypliny\",\n",
    "                                style={\"text-align\": \"center\"},\n",
    "                            ),\n",
    "                            dcc.Graph(id=\"pie chart\"),\n",
    "                            dcc.Dropdown(\n",
    "                                id=\"Wybierz dyscyplinę\",\n",
    "                                options=word_list,\n",
    "                                value=\"Badminton\",\n",
    "                                clearable=False,\n",
    "                                className=\"dropdown\",\n",
    "                            ),\n",
    "                        ]\n",
    "                    ),\n",
    "                    className=\"btn-primary\",\n",
    "                    width=3,\n",
    "                ),\n",
    "                dbc.Col(\n",
    "                    html.Div(\n",
    "                        [\n",
    "                            html.H4(\n",
    "                                children=\"Kraj pochodzenia olimpijczyków\",\n",
    "                                style={\"text-align\": \"center\"},\n",
    "                            ),\n",
    "                            dcc.Graph(figure=fig_map),\n",
    "                        ]\n",
    "                    ),\n",
    "                    className=\"btn-primary\",\n",
    "                    width=3,\n",
    "                ),\n",
    "                dbc.Col(\n",
    "                    html.Div(\n",
    "                        [\n",
    "                            html.H4(\n",
    "                                children=\"Liczba reprezentantów a ilość medali\",\n",
    "                                style={\"text-align\": \"center\"},\n",
    "                            ),\n",
    "                            dcc.Graph(id=\"scatter-plot\"),\n",
    "                            dcc.RangeSlider(\n",
    "                                id=\"range-slider\",\n",
    "                                min=0,\n",
    "                                max=650,\n",
    "                                step=10,\n",
    "                                marks={0: \"0\", 650: \"650\"},\n",
    "                                value=[0, 650],\n",
    "                                tooltip={\"placement\": \"bottom\", \"always_visible\": True},\n",
    "                                className=\"n-slider\",\n",
    "                            ),\n",
    "                        ]\n",
    "                    ),\n",
    "                    className=\"btn-primary\",\n",
    "                    width=5,\n",
    "                ),\n",
    "                dbc.Col(\n",
    "                    html.Div(\n",
    "                        [\n",
    "                            html.H1(\"⁣ ⁣  ⁣\"),\n",
    "                            dcc.RangeSlider(\n",
    "                                id=\"range-slider2\",\n",
    "                                min=0,\n",
    "                                max=120,\n",
    "                                step=1,\n",
    "                                marks={0: \"0\", 120: \"120\"},\n",
    "                                value=[0, 120],\n",
    "                                tooltip={\"placement\": \"bottom\", \"always_visible\": True},\n",
    "                                className=\"n-slider\",\n",
    "                                vertical=True,\n",
    "                            ),\n",
    "                        ]\n",
    "                    ),\n",
    "                    className=\"btn-primary\",\n",
    "                    width=1,\n",
    "                ),\n",
    "            ]\n",
    "        ),\n",
    "        \n",
    "        dbc.Row(html.H6(\"⁣ ⁣  ⁣\")),\n",
    "        \n",
    "        dbc.Row(\n",
    "            [\n",
    "                dbc.Col(\n",
    "                    html.Div(\n",
    "                        [\n",
    "                            html.H4(\n",
    "                                children=\"Medale na przestrzeni 120 lat\",\n",
    "                                style={\"text-align\": \"center\"},\n",
    "                            ),\n",
    "                            dcc.Graph(id=\"wykres liniowy\"),\n",
    "                            dcc.Checklist(\n",
    "                                id=\"checklist\",\n",
    "                                options=[\n",
    "                                    \"Azja\",\n",
    "                                    \"Europa\",\n",
    "                                    \"Afryka\",\n",
    "                                    \"Ameryka północna\",\n",
    "                                    \"Ameryka południowa\",\n",
    "                                    \"Australia i Oceania\",\n",
    "                                ],\n",
    "                                value=[\"Azja\"],\n",
    "                                inline=True,\n",
    "                                className=\"my_box_container\",\n",
    "                                inputClassName=\"my_box_input\",\n",
    "                                labelClassName=\"my_box_label\",\n",
    "                            ),\n",
    "                        ]\n",
    "                    ),\n",
    "                    className=\"btn-primary\",\n",
    "                    width=4,\n",
    "                ),\n",
    "                dbc.Col(\n",
    "                    html.Div(\n",
    "                        [\n",
    "                            html.H4(\n",
    "                                children=\"Waga, wzrost lub wiek uczestników\",\n",
    "                                style={\"text-align\": \"center\"},\n",
    "                            ),\n",
    "                            dcc.Graph(id=\"graph\"),\n",
    "                            dcc.RadioItems(\n",
    "                                id=\"distribution\",\n",
    "                                options=[\n",
    "                                    {\"label\": \"wykres pudełkowy\", \"value\": \"box\"},\n",
    "                                    {\"label\": \"diagram skrzypcowy\", \"value\": \"violin\"},\n",
    "                                ],\n",
    "                                value=\"box\",\n",
    "                                inline=True,\n",
    "                                className=\"my_box_container\",\n",
    "                                inputClassName=\"my_box_input\",\n",
    "                                labelClassName=\"my_box_label\",\n",
    "                            ),\n",
    "                            dcc.RadioItems(\n",
    "                                id=\"topic\",\n",
    "                                options=[\"Waga\", \"Wzrost\", \"Wiek\"],\n",
    "                                value=\"Waga\",\n",
    "                                inline=True,\n",
    "                                className=\"my_box_container\",\n",
    "                                inputClassName=\"my_box_input\",\n",
    "                                labelClassName=\"my_box_label\",\n",
    "                            ),\n",
    "                        ]\n",
    "                    ),\n",
    "                    className=\"btn-primary\",\n",
    "                    width=4,\n",
    "                ),\n",
    "                dbc.Col(\n",
    "                    html.Div(\n",
    "                        [\n",
    "                            html.H4(\n",
    "                                children=\"Najlepsze kadry olimpijskie 2020\",\n",
    "                                style={\"text-align\": \"center\"},\n",
    "                            ),\n",
    "                            dcc.Graph(id='bar'),\n",
    "                            dcc.Input(id='num',\n",
    "                                      type='number', \n",
    "                                      debounce=False, \n",
    "                                      min=5, \n",
    "                                      step=1, \n",
    "                                      value = 10,\n",
    "                                      size = 'lg')\n",
    "                        ]\n",
    "                    ),\n",
    "                    className=\"btn-primary\",\n",
    "                    width=4,\n",
    "                ),\n",
    "            ]\n",
    "        ),\n",
    "        dbc.Row(html.H4(\"⁣ ⁣  ⁣\")),\n",
    "        dbc.Row(html.H6(\"Autor: Radosław Dobry\", \"źródło danych:\")),\n",
    "        dbc.Row(\n",
    "            html.H6(\"źródło danych: https://olympics.com/en/olympic-games/tokyo-2020\")\n",
    "        ),\n",
    "    ],\n",
    ")\n",
    "\n",
    "\n",
    "@app.callback(Output(\"pie chart\", \"figure\"), Input(\"Wybierz dyscyplinę\", \"value\"))\n",
    "def generate_chart(values):\n",
    "    fig1 = px.pie(\n",
    "        gendert,\n",
    "        values=values,\n",
    "        template=theme,\n",
    "        names=[\"Kobiety\", \"Mężczyzni\"],\n",
    "        title=\"Uczestnicy dyscypliny: \" + values,\n",
    "    )\n",
    "    fig1.update_traces(\n",
    "        hoverinfo=\"label+percent\",\n",
    "        textinfo=\"value\",\n",
    "        textfont_size=55,\n",
    "        marker=dict(colors=[\"silver\", \"gold\"]),\n",
    "    )\n",
    "\n",
    "    fig1.update_layout(margin_l=10)\n",
    "    fig1.update_layout(margin_b=10)\n",
    "    fig1.update_layout(margin_r=10)\n",
    "    fig1.update_layout(margin_t=30)\n",
    "\n",
    "    return fig1\n",
    "\n",
    "\n",
    "@app.callback(Output(\"wykres liniowy\", \"figure\"), Input(\"checklist\", \"value\"))\n",
    "def update_line_chart(Kontynent):\n",
    "    mask = aa.Kontynent.isin(Kontynent)\n",
    "    fig2 = px.line(aa[mask], x=\"Rok\", y=\"Liczba medali\", color=\"Kraj\", template=theme)\n",
    "    return fig2\n",
    "\n",
    "\n",
    "@app.callback(\n",
    "    Output(\"scatter-plot\", \"figure\"),\n",
    "    [Input(\"range-slider\", \"value\"), Input(\"range-slider2\", \"value\")],\n",
    ")\n",
    "def update_scatter(slider_range, range_slider2):\n",
    "    low, high = slider_range\n",
    "    low1, high1 = range_slider2\n",
    "    mask = (\n",
    "        (df[\"liczba uczestników\"] > low)\n",
    "        & (df[\"liczba uczestników\"] < high)\n",
    "        & (df[\"liczba medali\"] > low1)\n",
    "        & (df[\"liczba medali\"] < high1)\n",
    "    )\n",
    "    fig3 = px.scatter(\n",
    "        df[mask],\n",
    "        x=\"liczba uczestników\",\n",
    "        y=\"liczba medali\",\n",
    "        size=\"złoty medal na uczestnika\",\n",
    "        hover_name=\"Druzyna\",\n",
    "        template=theme,\n",
    "    )\n",
    "    fig3.update_traces(marker=dict(color=\"gold\"))\n",
    "    fig3.update_layout(margin_l=10)\n",
    "    fig3.update_layout(margin_b=10)\n",
    "    fig3.update_layout(margin_r=10)\n",
    "    fig3.update_layout(margin_t=30)\n",
    "    return fig3\n",
    "\n",
    "\n",
    "@app.callback(\n",
    "    Output(\"graph\", \"figure\"), \n",
    "    [Input(\"distribution\", \"value\"), Input(\"topic\", \"value\")]\n",
    ")\n",
    "def display_graph(distribution, topic):\n",
    "    fig4 = px.histogram(\n",
    "        merged,\n",
    "        x=topic,\n",
    "        y=\"ilosc\",\n",
    "        color=\"Płeć\",\n",
    "        # labels={\"Age\": \"Wiek\", \"ilosc\": \"Całkowita liczba medali\", \"Sex\": \"Płeć\"},\n",
    "        marginal=distribution,\n",
    "        hover_data=merged.columns,\n",
    "        color_discrete_map={\"Kobiety\": \"silver\", \"Mężczyźni\": \"gold\"},\n",
    "        template=theme,\n",
    "    )\n",
    "\n",
    "    return fig4\n",
    "\n",
    "@app.callback(\n",
    "    Output('bar', 'figure'),\n",
    "    Input('num', 'value')\n",
    ")\n",
    "def display_barplot(num):\n",
    "    df1 = med.sort_values(by=['Całkowity'], ascending=False).reset_index().head(num)\n",
    "    \n",
    "    tr1 = go.Bar(x=df1['Kraj'],\n",
    "             y=df1['Złoto'],\n",
    "             name='Złoto',\n",
    "             marker=dict(color='Gold'))\n",
    "\n",
    "    tr2 = go.Bar(x=df1['Kraj'],\n",
    "             y=df1['Srebro'],\n",
    "             name='Srebro',\n",
    "             marker=dict(color='Silver'))\n",
    "\n",
    "    tr3 = go.Bar(x=df1['Kraj'],\n",
    "             y=df1['Brąz'],\n",
    "             name='Brąz',\n",
    "             marker=dict(color='Peru'))\n",
    "\n",
    "    data = [tr1, tr2, tr3]\n",
    "\n",
    "    layout = dict(\n",
    "        barmode='relative',\n",
    "        xaxis=dict(title='Kraj'),\n",
    "        yaxis=dict(title='liczba medali'),\n",
    "        template=theme)\n",
    "    fig_bar = go.Figure(data=data, layout=layout)\n",
    "    return fig_bar\n",
    "    \n",
    "\n",
    "\n",
    "if __name__ == \"__main__\":\n",
    "    app.run_server()\n"
   ]
  },
  {
   "cell_type": "code",
   "execution_count": null,
   "metadata": {},
   "outputs": [
    {
     "name": "stdout",
     "output_type": "stream",
     "text": [
      "The blackcellmagic extension is already loaded. To reload it, use:\n",
      "  %reload_ext blackcellmagic\n"
     ]
    }
   ],
   "source": [
    "%load_ext blackcellmagic"
   ]
  }
 ],
 "metadata": {
  "interpreter": {
   "hash": "aee8b7b246df8f9039afb4144a1f6fd8d2ca17a180786b69acc140d282b71a49"
  },
  "kernelspec": {
   "display_name": "Python 3.10.2 64-bit",
   "language": "python",
   "name": "python3"
  },
  "language_info": {
   "codemirror_mode": {
    "name": "ipython",
    "version": 3
   },
   "file_extension": ".py",
   "mimetype": "text/x-python",
   "name": "python",
   "nbconvert_exporter": "python",
   "pygments_lexer": "ipython3",
   "version": "3.10.2"
  },
  "orig_nbformat": 4
 },
 "nbformat": 4,
 "nbformat_minor": 2
}
